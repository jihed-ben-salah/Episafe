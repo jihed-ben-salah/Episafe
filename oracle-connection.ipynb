{
 "cells": [
  {
   "cell_type": "code",
   "execution_count": 4,
   "metadata": {},
   "outputs": [
    {
     "name": "stdout",
     "output_type": "stream",
     "text": [
      "Looking in indexes: https://pypi.org/simple, https://pypi.ngc.nvidia.com\n",
      "Collecting cx_Oracle\n",
      "  Downloading cx_Oracle-8.3.0.tar.gz (363 kB)\n",
      "     ---------------------------------------- 0.0/363.9 kB ? eta -:--:--\n",
      "     - -------------------------------------- 10.2/363.9 kB ? eta -:--:--\n",
      "     - -------------------------------------- 10.2/363.9 kB ? eta -:--:--\n",
      "     --- --------------------------------- 30.7/363.9 kB 217.9 kB/s eta 0:00:02\n",
      "     ------ ------------------------------ 61.4/363.9 kB 363.1 kB/s eta 0:00:01\n",
      "     ------- ----------------------------- 71.7/363.9 kB 391.3 kB/s eta 0:00:01\n",
      "     ----------- ------------------------ 112.6/363.9 kB 467.6 kB/s eta 0:00:01\n",
      "     ----------- ------------------------ 112.6/363.9 kB 467.6 kB/s eta 0:00:01\n",
      "     ------------ ----------------------- 122.9/363.9 kB 379.3 kB/s eta 0:00:01\n",
      "     -------------- --------------------- 143.4/363.9 kB 387.0 kB/s eta 0:00:01\n",
      "     ----------------- ------------------ 174.1/363.9 kB 402.6 kB/s eta 0:00:01\n",
      "     ------------------- ---------------- 194.6/363.9 kB 406.9 kB/s eta 0:00:01\n",
      "     ------------------- ---------------- 194.6/363.9 kB 406.9 kB/s eta 0:00:01\n",
      "     -------------------- --------------- 204.8/363.9 kB 345.6 kB/s eta 0:00:01\n",
      "     ---------------------- ------------- 225.3/363.9 kB 362.0 kB/s eta 0:00:01\n",
      "     ----------------------- ------------ 235.5/363.9 kB 342.9 kB/s eta 0:00:01\n",
      "     ------------------------- ---------- 256.0/363.9 kB 349.6 kB/s eta 0:00:01\n",
      "     --------------------------- -------- 276.5/363.9 kB 362.2 kB/s eta 0:00:01\n",
      "     --------------------------- -------- 276.5/363.9 kB 362.2 kB/s eta 0:00:01\n",
      "     --------------------------- -------- 276.5/363.9 kB 362.2 kB/s eta 0:00:01\n",
      "     ---------------------------- ------- 286.7/363.9 kB 321.5 kB/s eta 0:00:01\n",
      "     ------------------------------ ----- 307.2/363.9 kB 322.1 kB/s eta 0:00:01\n",
      "     ------------------------------- ---- 317.4/363.9 kB 317.0 kB/s eta 0:00:01\n",
      "     ------------------------------------ 363.9/363.9 kB 359.0 kB/s eta 0:00:00\n",
      "  Installing build dependencies: started\n",
      "  Installing build dependencies: finished with status 'done'\n",
      "  Getting requirements to build wheel: started\n",
      "  Getting requirements to build wheel: finished with status 'done'\n",
      "  Preparing metadata (pyproject.toml): started\n",
      "  Preparing metadata (pyproject.toml): finished with status 'done'\n",
      "Building wheels for collected packages: cx_Oracle\n",
      "  Building wheel for cx_Oracle (pyproject.toml): started\n",
      "  Building wheel for cx_Oracle (pyproject.toml): finished with status 'error'\n",
      "Failed to build cx_Oracle\n"
     ]
    },
    {
     "name": "stderr",
     "output_type": "stream",
     "text": [
      "  error: subprocess-exited-with-error\n",
      "  \n",
      "  × Building wheel for cx_Oracle (pyproject.toml) did not run successfully.\n",
      "  │ exit code: 1\n",
      "  ╰─> [8 lines of output]\n",
      "      <string>:6: DeprecationWarning: pkg_resources is deprecated as an API. See https://setuptools.pypa.io/en/latest/pkg_resources.html\n",
      "      C:\\Users\\jihed\\AppData\\Local\\Temp\\pip-build-env-gffxawm6\\overlay\\Lib\\site-packages\\setuptools\\config\\expand.py:134: SetuptoolsWarning: File 'C:\\\\Users\\\\jihed\\\\AppData\\\\Local\\\\Temp\\\\pip-install-fesrpvai\\\\cx-oracle_d9e5cf728c9642d4a18591c7985a7868\\\\README.md' cannot be found\n",
      "        return '\\n'.join(\n",
      "      running bdist_wheel\n",
      "      running build\n",
      "      running build_ext\n",
      "      building 'cx_Oracle' extension\n",
      "      error: Microsoft Visual C++ 14.0 or greater is required. Get it with \"Microsoft C++ Build Tools\": https://visualstudio.microsoft.com/visual-cpp-build-tools/\n",
      "      [end of output]\n",
      "  \n",
      "  note: This error originates from a subprocess, and is likely not a problem with pip.\n",
      "  ERROR: Failed building wheel for cx_Oracle\n",
      "ERROR: Could not build wheels for cx_Oracle, which is required to install pyproject.toml-based projects\n"
     ]
    }
   ],
   "source": [
    "!pip install cx_Oracle"
   ]
  },
  {
   "cell_type": "code",
   "execution_count": null,
   "metadata": {},
   "outputs": [],
   "source": []
  }
 ],
 "metadata": {
  "kernelspec": {
   "display_name": "Python 3",
   "language": "python",
   "name": "python3"
  },
  "language_info": {
   "codemirror_mode": {
    "name": "ipython",
    "version": 3
   },
   "file_extension": ".py",
   "mimetype": "text/x-python",
   "name": "python",
   "nbconvert_exporter": "python",
   "pygments_lexer": "ipython3",
   "version": "3.11.4"
  },
  "orig_nbformat": 4
 },
 "nbformat": 4,
 "nbformat_minor": 2
}
